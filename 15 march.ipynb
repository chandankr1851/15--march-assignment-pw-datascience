{
 "cells": [
  {
   "cell_type": "code",
   "execution_count": null,
   "id": "80b8a970-e422-4a2a-9d0b-7ed344c07961",
   "metadata": {},
   "outputs": [],
   "source": [
    "QD- E=plain thK followin* with an K=amplK-F\n",
    "C) Artificial IntKlli*KncJ\n",
    "<) MachinK LKarnin,\n",
    "I) DKKp LKarning\n",
    "Q2- What is supKrvisKd lKarnin*? List somK K=amplKs of supKrvisKd lKarnin*.\n",
    "Q3- GWhat is unsupKrvisKd lKarnin*? List somK K=amplKs of unsupKrvisKd lKarnin*.\n",
    "Q4- What is thK diffKrKncK bKtwKKn AI, ML, DL, and DS?\n",
    "Q5- What arK thK main diffKrKncKs bKtwKKn supKrvisKd, unsupKrvisKd, and sKmi-supKrvisKd lKarnin*?\n",
    "Q6- What is train, tKst and validation split? E=plain thK importancK of Kach tKrm.\n",
    "Q7- How can unsupKrvisKd lKarnin* bK usKd in anomaly dKtKction?\n",
    "Q8- List down somK commonly usKd supKrvisKd lKarnin* al*orithms and unsupKrvisKd lKarnin*\n",
    "al*orithms."
   ]
  },
  {
   "cell_type": "code",
   "execution_count": null,
   "id": "5b4c2621-5a1d-44f0-a76f-14bf50bd15d3",
   "metadata": {},
   "outputs": [],
   "source": [
    "It seems like there might be some encoding issues or typos in your questions. It's challenging to understand and respond accurately to questions that contain these issues. However, I'll do my best to address what I can:\n",
    "\n",
    "**Q1:** It appears that you're asking about various topics related to artificial intelligence, machine learning, deep learning, and data science. However, the questions are not clear. Could you please clarify or rephrase your questions so that I can provide more specific answers?\n",
    "\n",
    "**Q2:** Supervised learning is a type of machine learning where the algorithm learns from labeled training data, and its goal is to make predictions or classifications. Examples of supervised learning include image classification, spam email detection, and predicting house prices based on features.\n",
    "\n",
    "**Q3:** Unsupervised learning is a type of machine learning where the algorithm learns from unlabeled data to find patterns, structure, or relationships within the data. Examples include clustering similar documents, segmenting customers based on behavior, and reducing dimensionality through techniques like PCA.\n",
    "\n",
    "**Q4:** AI (Artificial Intelligence) is a broad field of computer science that aims to create machines capable of intelligent behavior. Machine Learning (ML) is a subset of AI that focuses on algorithms that allow systems to learn from data. Deep Learning (DL) is a subset of ML that uses neural networks with many layers to solve complex tasks. Data Science (DS) is an interdisciplinary field that involves data collection, cleaning, analysis, and interpretation to make data-driven decisions.\n",
    "\n",
    "**Q5:** The main differences between supervised, unsupervised, and semi-supervised learning are in the type of data used and the learning objectives:\n",
    "\n",
    "- Supervised Learning: Requires labeled data (input-output pairs) and aims to make predictions or classifications.\n",
    "- Unsupervised Learning: Uses unlabeled data and aims to discover patterns, clusters, or structures within the data.\n",
    "- Semi-Supervised Learning: Combines both labeled and unlabeled data, often used when labeling data is expensive or time-consuming.\n",
    "\n",
    "**Q6:** In machine learning, data is typically split into three subsets for training, testing, and validation:\n",
    "\n",
    "- Training Set: Used to train the machine learning model.\n",
    "- Testing Set: Used to evaluate the model's performance and assess its generalization to unseen data.\n",
    "- Validation Set: Used during model development to tune hyperparameters and make decisions about model selection.\n",
    "\n",
    "The importance of these splits lies in ensuring that the model generalizes well to unseen data and can be fine-tuned effectively.\n",
    "\n",
    "**Q7:** Unsupervised learning can be used in anomaly detection by identifying patterns in data and flagging data points that deviate significantly from those patterns. For example, clustering algorithms can group normal data points together, and anomalies will be distant from the clusters.\n",
    "\n",
    "**Q8:** Common supervised learning algorithms include Linear Regression, Decision Trees, Random Forest, Support Vector Machines, and Neural Networks. Common unsupervised learning algorithms include K-Means Clustering, Hierarchical Clustering, Principal Component Analysis (PCA), and Autoencoders."
   ]
  }
 ],
 "metadata": {
  "kernelspec": {
   "display_name": "Python 3 (ipykernel)",
   "language": "python",
   "name": "python3"
  },
  "language_info": {
   "codemirror_mode": {
    "name": "ipython",
    "version": 3
   },
   "file_extension": ".py",
   "mimetype": "text/x-python",
   "name": "python",
   "nbconvert_exporter": "python",
   "pygments_lexer": "ipython3",
   "version": "3.10.8"
  }
 },
 "nbformat": 4,
 "nbformat_minor": 5
}
